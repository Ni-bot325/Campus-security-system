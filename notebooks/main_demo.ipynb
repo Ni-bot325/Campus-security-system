{
 "cells": [
  {
   "cell_type": "code",
   "execution_count": null,
   "id": "d03a607a",
   "metadata": {
    "vscode": {
     "languageId": "plaintext"
    }
   },
   "outputs": [],
   "source": [
    "from src.data_loader import load_all_data\n",
    "from src.entity_resolution import build_entity_map\n",
    "from src.data_linking import link_datasets\n",
    "from src.timeline import generate_entity_timeline\n",
    "from src.anomaly_detection import detect_anomalies\n",
    "from src.predictive_monitoring import predict_next_location, predict_inactivity_alert"
   ]
  },
  {
   "cell_type": "code",
   "execution_count": null,
   "id": "6d8715bd",
   "metadata": {
    "vscode": {
     "languageId": "plaintext"
    }
   },
   "outputs": [],
   "source": [
    "# 1. Load Data\n",
    "datasets = load_all_data()\n",
    "profiles = datasets['profiles']"
   ]
  },
  {
   "cell_type": "code",
   "execution_count": null,
   "id": "b5409554",
   "metadata": {
    "vscode": {
     "languageId": "plaintext"
    }
   },
   "outputs": [],
   "source": [
    "# 2. Entity Resolution\n",
    "entity_map = build_entity_map(profiles)"
   ]
  },
  {
   "cell_type": "code",
   "execution_count": null,
   "id": "62f90114",
   "metadata": {
    "vscode": {
     "languageId": "plaintext"
    }
   },
   "outputs": [],
   "source": [
    "# 3. Link Datasets\n",
    "linked = link_datasets(datasets, entity_map)"
   ]
  },
  {
   "cell_type": "code",
   "execution_count": null,
   "id": "0cc33d63",
   "metadata": {
    "vscode": {
     "languageId": "plaintext"
    }
   },
   "outputs": [],
   "source": [
    "# Model Train\n",
    "from src.timeline import generate_entity_timeline\n",
    "from src.predictive_monitoring import train_markov_model\n",
    "\n",
    "# Build timelines for many users to train Markov model\n",
    "all_timelines = []\n",
    "for e_id in profiles['entity_id'].head(500):   # sample first 500 users for speed\n",
    "    tl = generate_entity_timeline(e_id, linked)\n",
    "    if len(tl) > 1:\n",
    "        all_timelines.append(tl)\n",
    "\n",
    "markov_model = train_markov_model(all_timelines)\n",
    "print(\"Markov model trained on\", len(all_timelines), \"timelines\")"
   ]
  },
  {
   "cell_type": "code",
   "execution_count": null,
   "id": "34017c7b",
   "metadata": {
    "vscode": {
     "languageId": "plaintext"
    }
   },
   "outputs": [],
   "source": [
    "# 4. Timeline for sample user\n",
    "entity_id = profiles.iloc[0]['entity_id']\n",
    "timeline = generate_entity_timeline(entity_id, linked)"
   ]
  },
  {
   "cell_type": "code",
   "execution_count": null,
   "id": "77368bee",
   "metadata": {
    "vscode": {
     "languageId": "plaintext"
    }
   },
   "outputs": [],
   "source": [
    "# 5. Anomaly detection\n",
    "anomalies = detect_anomalies(entity_id, timeline)"
   ]
  },
  {
   "cell_type": "code",
   "execution_count": null,
   "id": "a516474a",
   "metadata": {
    "vscode": {
     "languageId": "plaintext"
    }
   },
   "outputs": [],
   "source": [
    "# 6. Predictions\n",
    "pred, explain = predict_next_location(timeline)\n",
    "status, reason = predict_inactivity_alert(timeline)"
   ]
  },
  {
   "cell_type": "code",
   "execution_count": null,
   "id": "06aa6dc5",
   "metadata": {
    "vscode": {
     "languageId": "plaintext"
    }
   },
   "outputs": [],
   "source": [
    "print(\"Predicted next:\", pred, \"\\nReason:\", explain)\n",
    "print(\"Inactivity alert:\", status, \"\\nWhy:\", reason)"
   ]
  },
  {
   "cell_type": "code",
   "execution_count": null,
   "id": "9952bdf7",
   "metadata": {
    "vscode": {
     "languageId": "plaintext"
    }
   },
   "outputs": [],
   "source": [
    " # Test for one user\n",
    "from src.predictive_monitoring import predict_next_location, predict_inactivity_alert\n",
    "\n",
    "entity_id = profiles.iloc[0]['entity_id']\n",
    "timeline = generate_entity_timeline(entity_id, linked)\n",
    "\n",
    "pred, explain = predict_next_location(timeline, model=markov_model)\n",
    "print(\"Predicted next:\", pred)\n",
    "print(\"Why:\", explain)\n",
    "\n",
    "status, reason = predict_inactivity_alert(timeline, model=markov_model)\n",
    "print(\"Inactivity alert:\", status)\n",
    "print(\"Reason:\", reason)"
   ]
  }
 ],
 "metadata": {
  "language_info": {
   "name": "python"
  }
 },
 "nbformat": 4,
 "nbformat_minor": 5
}
